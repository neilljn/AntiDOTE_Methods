{
 "cells": [
  {
   "cell_type": "markdown",
   "metadata": {},
   "source": [
    "# sim_study_comparison_varying data"
   ]
  },
  {
   "cell_type": "markdown",
   "metadata": {},
   "source": [
    "## preamble"
   ]
  },
  {
   "cell_type": "code",
   "execution_count": 9,
   "metadata": {},
   "outputs": [],
   "source": [
    "# importing numpy\n",
    "import numpy as np\n",
    "from numpy import random"
   ]
  },
  {
   "cell_type": "code",
   "execution_count": 10,
   "metadata": {},
   "outputs": [],
   "source": [
    "# importing plotting\n",
    "import matplotlib.pyplot as plt\n",
    "import matplotlib.animation as animation\n",
    "%matplotlib inline"
   ]
  },
  {
   "cell_type": "code",
   "execution_count": 11,
   "metadata": {},
   "outputs": [],
   "source": [
    "# importing storage for results\n",
    "import zarr"
   ]
  },
  {
   "cell_type": "code",
   "execution_count": 12,
   "metadata": {},
   "outputs": [],
   "source": [
    "# importing pandas\n",
    "import pandas as pd"
   ]
  },
  {
   "cell_type": "markdown",
   "metadata": {},
   "source": [
    "## simulated data"
   ]
  },
  {
   "cell_type": "code",
   "execution_count": 13,
   "metadata": {},
   "outputs": [],
   "source": [
    "# loading in functions for simulation\n",
    "%run '../../function_scripts/model/UC_simulation.py'"
   ]
  },
  {
   "cell_type": "code",
   "execution_count": 14,
   "metadata": {},
   "outputs": [],
   "source": [
    "# importing the csv - only the important columns\n",
    "data_real = pd.read_csv(\"../../Antidote_household.csv\", usecols=[\"hid\",\"pid\",\"date\",\"age\",\"sex\",\"hiv\",\"hivChild\",\"cpt\",\"result\",\"week\"])\n",
    "\n",
    "# converting the pid to integers (and saving lists of sex and age)\n",
    "pid_unique = []\n",
    "no_individuals = 0\n",
    "test_individuals = []\n",
    "sex = []\n",
    "age = []\n",
    "for i in range(1659):\n",
    "    pid = data_real['pid'][i]\n",
    "    if pid in pid_unique:\n",
    "        test_individuals.append(pid_unique.index(pid))\n",
    "    else:\n",
    "        pid_unique.append(pid)\n",
    "        test_individuals.append(no_individuals)\n",
    "        sex.append(data_real['sex'][i])\n",
    "        age.append(data_real['age'][i])\n",
    "        no_individuals += 1\n",
    "sex = np.array(sex)\n",
    "age = np.array(age)\n",
    "\n",
    "# centring age and sex\n",
    "age = age - np.mean(age)\n",
    "sex = sex - np.mean(sex)\n",
    "\n",
    "# calculating N and T\n",
    "N = no_individuals\n",
    "T = int(max(data_real['week']))\n",
    "\n",
    "# making a test result matrix (for the real test results)\n",
    "test_results_real = np.tile(np.nan,(T+1,N))\n",
    "for i in range(1659):\n",
    "    j = test_individuals[i]\n",
    "    t = int(data_real['week'][i])\n",
    "    test_results_real[t,j] = data_real['result'][i]\n",
    "\n",
    "# converting the hid to integers\n",
    "hid_unique = []\n",
    "no_houses = 0\n",
    "test_houses = []\n",
    "for hid in data_real['hid'] :\n",
    "    if hid in hid_unique:\n",
    "        test_houses.append(hid_unique.index(hid))\n",
    "    else:\n",
    "        hid_unique.append(hid)\n",
    "        test_houses.append(no_houses)\n",
    "        no_houses += 1\n",
    "\n",
    "# list of which house each individual is in\n",
    "house_list = []\n",
    "for i in range(N):\n",
    "    test_no = test_individuals.index(i)\n",
    "    house_list.append(test_houses[test_no])\n",
    "\n",
    "# making a household mixing matrix\n",
    "h = np.zeros((N,N))\n",
    "for i in range(N):\n",
    "    for j in range(N):\n",
    "        if house_list[i]==house_list[j]:\n",
    "            h[i,j] = 1"
   ]
  },
  {
   "cell_type": "code",
   "execution_count": 15,
   "metadata": {},
   "outputs": [
    {
     "data": {
      "image/png": "[encoded data removed]",
      "text/plain": [
       "<Figure size 640x480 with 1 Axes>"
      ]
     },
     "metadata": {},
     "output_type": "display_data"
    }
   ],
   "source": [
    "# plotting h\n",
    "plt.imshow(h,cmap=\"copper_r\")\n",
    "plt.title(\"Household Mixing Matrix\")\n",
    "plt.ylabel(\"Individual\")\n",
    "plt.xlabel(\"Individual\")\n",
    "plt.show()"
   ]
  },
  {
   "cell_type": "code",
   "execution_count": 18,
   "metadata": {},
   "outputs": [],
   "source": [
    "# true values of the paramters\n",
    "theta = np.array([0.1,1.5,0,0])"
   ]
  },
  {
   "cell_type": "code",
   "execution_count": 19,
   "metadata": {},
   "outputs": [],
   "source": [
    "# true values of other inputs\n",
    "prop_0 = 0.3\n",
    "gamma = 0.5\n",
    "test_rate = 0.3 #will be replaced with other test data, but parameter needed for simulation\n",
    "sens = 0.95\n",
    "spec = 0.999"
   ]
  },
  {
   "cell_type": "code",
   "execution_count": 20,
   "metadata": {},
   "outputs": [],
   "source": [
    "# seasonality modifiers\n",
    "seasonality_mode = 2\n",
    "seasonal_period = 52\n",
    "t_ast = 17\n",
    "\n",
    "# resulting matrices\n",
    "seasonal_vector = np.array([1 - np.cos(2*np.pi*(t+t_ast)/seasonal_period) for t in range(T+1)])\n",
    "seasonal_matrix_G = np.tile(seasonal_vector, (N,1)).T\n",
    "seasonal_matrix_H = np.tile(1, (T+1,N))"
   ]
  },
  {
   "cell_type": "code",
   "execution_count": 21,
   "metadata": {},
   "outputs": [],
   "source": [
    "# simulating the data\n",
    "UC_results_01 = UC_sim(N,h,age,sex,prop_0,theta,gamma,0.05,sens,spec,T,seasonality_mode,seasonal_period,t_ast,1)\n",
    "UC_results_02 = UC_sim(N,h,age,sex,prop_0,theta,gamma,0.10,sens,spec,T,seasonality_mode,seasonal_period,t_ast,1)\n",
    "UC_results_03 = UC_sim(N,h,age,sex,prop_0,theta,gamma,0.15,sens,spec,T,seasonality_mode,seasonal_period,t_ast,1)\n",
    "UC_results_04 = UC_sim(N,h,age,sex,prop_0,theta,gamma,0.20,sens,spec,T,seasonality_mode,seasonal_period,t_ast,1)\n",
    "UC_results_05 = UC_sim(N,h,age,sex,prop_0,theta,gamma,0.25,sens,spec,T,seasonality_mode,seasonal_period,t_ast,1)\n",
    "UC_results_06 = UC_sim(N,h,age,sex,prop_0,theta,gamma,0.30,sens,spec,T,seasonality_mode,seasonal_period,t_ast,1)\n",
    "UC_results_07 = UC_sim(N,h,age,sex,prop_0,theta,gamma,0.35,sens,spec,T,seasonality_mode,seasonal_period,t_ast,1)\n",
    "UC_results_08 = UC_sim(N,h,age,sex,prop_0,theta,gamma,0.40,sens,spec,T,seasonality_mode,seasonal_period,t_ast,1)\n",
    "UC_results_09 = UC_sim(N,h,age,sex,prop_0,theta,gamma,0.45,sens,spec,T,seasonality_mode,seasonal_period,t_ast,1)\n",
    "UC_results_10 = UC_sim(N,h,age,sex,prop_0,theta,gamma,0.50,sens,spec,T,seasonality_mode,seasonal_period,t_ast,1)"
   ]
  },
  {
   "cell_type": "markdown",
   "metadata": {},
   "source": [
    "## inference information"
   ]
  },
  {
   "cell_type": "code",
   "execution_count": 22,
   "metadata": {},
   "outputs": [],
   "source": [
    "# hyperparameters of priors\n",
    "mu = np.array([0.001,0.001,0.001,0.001])\n",
    "prior_X_0 = 0.3"
   ]
  },
  {
   "cell_type": "code",
   "execution_count": 23,
   "metadata": {},
   "outputs": [],
   "source": [
    "# starting values\n",
    "theta_start = np.array([0.5,0.5,0,0])\n",
    "X_start = UC_sim(N,h,age,sex,prop_0,theta,gamma,test_rate,sens,spec,T,seasonality_mode,seasonal_period,t_ast,1)['X']\n",
    "covariance_start = 0.8*0.000001*np.identity(4)\n",
    "scaling = 0.8"
   ]
  },
  {
   "cell_type": "code",
   "execution_count": 24,
   "metadata": {},
   "outputs": [],
   "source": [
    "# MCMC iterations\n",
    "K = 1000\n",
    "K_latent = 100"
   ]
  },
  {
   "cell_type": "markdown",
   "metadata": {},
   "source": [
    "## rippler"
   ]
  },
  {
   "cell_type": "markdown",
   "metadata": {},
   "source": [
    "### acceptance rates"
   ]
  },
  {
   "cell_type": "code",
   "execution_count": 8,
   "metadata": {},
   "outputs": [
    {
     "name": "stdout",
     "output_type": "stream",
     "text": [
      "0.48914 0.37032 0.30578 0.25792 0.2202 0.1917 0.16915 0.14426 0.12933 0.11155\n"
     ]
    }
   ],
   "source": [
    "# importing the saved acceptance rates\n",
    "MCMC_noncentred_acc_01 = zarr.open('./MCMC_output/rippler_01/acc.zarr', mode='r')\n",
    "MCMC_noncentred_acc_02 = zarr.open('./MCMC_output/rippler_02/acc.zarr', mode='r')\n",
    "MCMC_noncentred_acc_03 = zarr.open('./MCMC_output/rippler_03/acc.zarr', mode='r')\n",
    "MCMC_noncentred_acc_04 = zarr.open('./MCMC_output/rippler_04/acc.zarr', mode='r')\n",
    "MCMC_noncentred_acc_05 = zarr.open('./MCMC_output/rippler_05/acc.zarr', mode='r')\n",
    "MCMC_noncentred_acc_06 = zarr.open('./MCMC_output/rippler_06/acc.zarr', mode='r')\n",
    "MCMC_noncentred_acc_07 = zarr.open('./MCMC_output/rippler_07/acc.zarr', mode='r')\n",
    "MCMC_noncentred_acc_08 = zarr.open('./MCMC_output/rippler_08/acc.zarr', mode='r')\n",
    "MCMC_noncentred_acc_09 = zarr.open('./MCMC_output/rippler_09/acc.zarr', mode='r')\n",
    "MCMC_noncentred_acc_10 = zarr.open('./MCMC_output/rippler_10/acc.zarr', mode='r')\n",
    "\n",
    "# printing the acceptance rates\n",
    "print(MCMC_noncentred_acc_01[2],MCMC_noncentred_acc_02[2],MCMC_noncentred_acc_03[2],MCMC_noncentred_acc_04[2],MCMC_noncentred_acc_05[2],MCMC_noncentred_acc_06[2],MCMC_noncentred_acc_07[2],MCMC_noncentred_acc_08[2],MCMC_noncentred_acc_09[2],MCMC_noncentred_acc_10[2])\n",
    "\n",
    "# removing the acceptance rates from memory\n",
    "del(MCMC_noncentred_acc_01)\n",
    "del(MCMC_noncentred_acc_02)\n",
    "del(MCMC_noncentred_acc_03)\n",
    "del(MCMC_noncentred_acc_04)\n",
    "del(MCMC_noncentred_acc_05)\n",
    "del(MCMC_noncentred_acc_06)\n",
    "del(MCMC_noncentred_acc_07)\n",
    "del(MCMC_noncentred_acc_08)\n",
    "del(MCMC_noncentred_acc_09)\n",
    "del(MCMC_noncentred_acc_10)"
   ]
  },
  {
   "cell_type": "markdown",
   "metadata": {},
   "source": [
    "### MSJDs"
   ]
  },
  {
   "cell_type": "code",
   "execution_count": 27,
   "metadata": {},
   "outputs": [
    {
     "name": "stdout",
     "output_type": "stream",
     "text": [
      "0\r"
     ]
    },
    {
     "name": "stdout",
     "output_type": "stream",
     "text": [
      "317.079\n"
     ]
    }
   ],
   "source": [
    "# importing the saved run of the X matrices resulting from the latent variables\n",
    "MCMC_noncentred_X = zarr.open('./MCMC_output/rippler_01/X.zarr', mode='r')\n",
    "\n",
    "# calculating the MSJD for the final 1000 iterations\n",
    "MSJD = 0\n",
    "MSJD += np.sum(np.absolute(X_start-MCMC_noncentred_X[0]))\n",
    "for i in range(999):\n",
    "    print(i, end='\\r')\n",
    "    MSJD += np.sum(np.absolute(MCMC_noncentred_X[i]-MCMC_noncentred_X[i+1]))\n",
    "MSJD = MSJD/1000\n",
    "print(MSJD)\n",
    "\n",
    "# removing the traces of the latent variables from memory\n",
    "del(MCMC_noncentred_X)"
   ]
  },
  {
   "cell_type": "code",
   "execution_count": 28,
   "metadata": {},
   "outputs": [
    {
     "name": "stdout",
     "output_type": "stream",
     "text": [
      "157.201\n"
     ]
    }
   ],
   "source": [
    "# importing the saved run of the X matrices resulting from the latent variables\n",
    "MCMC_noncentred_X = zarr.open('./MCMC_output/rippler_02/X.zarr', mode='r')\n",
    "\n",
    "# calculating the MSJD for the final 1000 iterations\n",
    "MSJD = 0\n",
    "MSJD += np.sum(np.absolute(X_start-MCMC_noncentred_X[0]))\n",
    "for i in range(999):\n",
    "    #print(i, end='\\r')\n",
    "    MSJD += np.sum(np.absolute(MCMC_noncentred_X[i]-MCMC_noncentred_X[i+1]))\n",
    "MSJD = MSJD/1000\n",
    "print(MSJD)\n",
    "\n",
    "# removing the traces of the latent variables from memory\n",
    "del(MCMC_noncentred_X)"
   ]
  },
  {
   "cell_type": "code",
   "execution_count": 29,
   "metadata": {},
   "outputs": [
    {
     "name": "stdout",
     "output_type": "stream",
     "text": [
      "102.874\n"
     ]
    }
   ],
   "source": [
    "# importing the saved run of the X matrices resulting from the latent variables\n",
    "MCMC_noncentred_X = zarr.open('./MCMC_output/rippler_03/X.zarr', mode='r')\n",
    "\n",
    "# calculating the MSJD for the final 1000 iterations\n",
    "MSJD = 0\n",
    "MSJD += np.sum(np.absolute(X_start-MCMC_noncentred_X[0]))\n",
    "for i in range(999):\n",
    "    #print(i, end='\\r')\n",
    "    MSJD += np.sum(np.absolute(MCMC_noncentred_X[i]-MCMC_noncentred_X[i+1]))\n",
    "MSJD = MSJD/1000\n",
    "print(MSJD)\n",
    "\n",
    "# removing the traces of the latent variables from memory\n",
    "del(MCMC_noncentred_X)"
   ]
  },
  {
   "cell_type": "code",
   "execution_count": 30,
   "metadata": {},
   "outputs": [
    {
     "name": "stdout",
     "output_type": "stream",
     "text": [
      "72.709\n"
     ]
    }
   ],
   "source": [
    "# importing the saved run of the X matrices resulting from the latent variables\n",
    "MCMC_noncentred_X = zarr.open('./MCMC_output/rippler_04/X.zarr', mode='r')\n",
    "\n",
    "# calculating the MSJD for the final 1000 iterations\n",
    "MSJD = 0\n",
    "MSJD += np.sum(np.absolute(X_start-MCMC_noncentred_X[0]))\n",
    "for i in range(999):\n",
    "    #print(i, end='\\r')\n",
    "    MSJD += np.sum(np.absolute(MCMC_noncentred_X[i]-MCMC_noncentred_X[i+1]))\n",
    "MSJD = MSJD/1000\n",
    "print(MSJD)\n",
    "\n",
    "# removing the traces of the latent variables from memory\n",
    "del(MCMC_noncentred_X)"
   ]
  },
  {
   "cell_type": "code",
   "execution_count": 31,
   "metadata": {},
   "outputs": [
    {
     "name": "stdout",
     "output_type": "stream",
     "text": [
      "54.591\n"
     ]
    }
   ],
   "source": [
    "# importing the saved run of the X matrices resulting from the latent variables\n",
    "MCMC_noncentred_X = zarr.open('./MCMC_output/rippler_05/X.zarr', mode='r')\n",
    "\n",
    "# calculating the MSJD for the final 1000 iterations\n",
    "MSJD = 0\n",
    "MSJD += np.sum(np.absolute(X_start-MCMC_noncentred_X[0]))\n",
    "for i in range(999):\n",
    "    #print(i, end='\\r')\n",
    "    MSJD += np.sum(np.absolute(MCMC_noncentred_X[i]-MCMC_noncentred_X[i+1]))\n",
    "MSJD = MSJD/1000\n",
    "print(MSJD)\n",
    "\n",
    "# removing the traces of the latent variables from memory\n",
    "del(MCMC_noncentred_X)"
   ]
  },
  {
   "cell_type": "code",
   "execution_count": 32,
   "metadata": {},
   "outputs": [
    {
     "name": "stdout",
     "output_type": "stream",
     "text": [
      "43.026\n"
     ]
    }
   ],
   "source": [
    "# importing the saved run of the X matrices resulting from the latent variables\n",
    "MCMC_noncentred_X = zarr.open('./MCMC_output/rippler_06/X.zarr', mode='r')\n",
    "\n",
    "# calculating the MSJD for the final 1000 iterations\n",
    "MSJD = 0\n",
    "MSJD += np.sum(np.absolute(X_start-MCMC_noncentred_X[0]))\n",
    "for i in range(999):\n",
    "    #print(i, end='\\r')\n",
    "    MSJD += np.sum(np.absolute(MCMC_noncentred_X[i]-MCMC_noncentred_X[i+1]))\n",
    "MSJD = MSJD/1000\n",
    "print(MSJD)\n",
    "\n",
    "# removing the traces of the latent variables from memory\n",
    "del(MCMC_noncentred_X)"
   ]
  },
  {
   "cell_type": "code",
   "execution_count": 33,
   "metadata": {},
   "outputs": [
    {
     "name": "stdout",
     "output_type": "stream",
     "text": [
      "34.769\n"
     ]
    }
   ],
   "source": [
    "# importing the saved run of the X matrices resulting from the latent variables\n",
    "MCMC_noncentred_X = zarr.open('./MCMC_output/rippler_07/X.zarr', mode='r')\n",
    "\n",
    "# calculating the MSJD for the final 1000 iterations\n",
    "MSJD = 0\n",
    "MSJD += np.sum(np.absolute(X_start-MCMC_noncentred_X[0]))\n",
    "for i in range(999):\n",
    "    #print(i, end='\\r')\n",
    "    MSJD += np.sum(np.absolute(MCMC_noncentred_X[i]-MCMC_noncentred_X[i+1]))\n",
    "MSJD = MSJD/1000\n",
    "print(MSJD)\n",
    "\n",
    "# removing the traces of the latent variables from memory\n",
    "del(MCMC_noncentred_X)"
   ]
  },
  {
   "cell_type": "code",
   "execution_count": 34,
   "metadata": {},
   "outputs": [
    {
     "name": "stdout",
     "output_type": "stream",
     "text": [
      "27.571\n"
     ]
    }
   ],
   "source": [
    "# importing the saved run of the X matrices resulting from the latent variables\n",
    "MCMC_noncentred_X = zarr.open('./MCMC_output/rippler_08/X.zarr', mode='r')\n",
    "\n",
    "# calculating the MSJD for the final 1000 iterations\n",
    "MSJD = 0\n",
    "MSJD += np.sum(np.absolute(X_start-MCMC_noncentred_X[0]))\n",
    "for i in range(999):\n",
    "    #print(i, end='\\r')\n",
    "    MSJD += np.sum(np.absolute(MCMC_noncentred_X[i]-MCMC_noncentred_X[i+1]))\n",
    "MSJD = MSJD/1000\n",
    "print(MSJD)\n",
    "\n",
    "# removing the traces of the latent variables from memory\n",
    "del(MCMC_noncentred_X)"
   ]
  },
  {
   "cell_type": "code",
   "execution_count": 35,
   "metadata": {},
   "outputs": [
    {
     "name": "stdout",
     "output_type": "stream",
     "text": [
      "22.888\n"
     ]
    }
   ],
   "source": [
    "# importing the saved run of the X matrices resulting from the latent variables\n",
    "MCMC_noncentred_X = zarr.open('./MCMC_output/rippler_09/X.zarr', mode='r')\n",
    "\n",
    "# calculating the MSJD for the final 1000 iterations\n",
    "MSJD = 0\n",
    "MSJD += np.sum(np.absolute(X_start-MCMC_noncentred_X[0]))\n",
    "for i in range(999):\n",
    "    #print(i, end='\\r')\n",
    "    MSJD += np.sum(np.absolute(MCMC_noncentred_X[i]-MCMC_noncentred_X[i+1]))\n",
    "MSJD = MSJD/1000\n",
    "print(MSJD)\n",
    "\n",
    "# removing the traces of the latent variables from memory\n",
    "del(MCMC_noncentred_X)"
   ]
  },
  {
   "cell_type": "code",
   "execution_count": 36,
   "metadata": {},
   "outputs": [
    {
     "name": "stdout",
     "output_type": "stream",
     "text": [
      "18.588\n"
     ]
    }
   ],
   "source": [
    "# importing the saved run of the X matrices resulting from the latent variables\n",
    "MCMC_noncentred_X = zarr.open('./MCMC_output/rippler_10/X.zarr', mode='r')\n",
    "\n",
    "# calculating the MSJD for the final 1000 iterations\n",
    "MSJD = 0\n",
    "MSJD += np.sum(np.absolute(X_start-MCMC_noncentred_X[0]))\n",
    "for i in range(999):\n",
    "    #print(i, end='\\r')\n",
    "    MSJD += np.sum(np.absolute(MCMC_noncentred_X[i]-MCMC_noncentred_X[i+1]))\n",
    "MSJD = MSJD/1000\n",
    "print(MSJD)\n",
    "\n",
    "# removing the traces of the latent variables from memory\n",
    "del(MCMC_noncentred_X)"
   ]
  },
  {
   "cell_type": "markdown",
   "metadata": {},
   "source": [
    "## move/add/delete"
   ]
  },
  {
   "cell_type": "markdown",
   "metadata": {},
   "source": [
    "### acceptance rates"
   ]
  },
  {
   "cell_type": "code",
   "execution_count": null,
   "metadata": {},
   "outputs": [
    {
     "name": "stdout",
     "output_type": "stream",
     "text": [
      "0.44093 0.40965 0.37699 0.34685 0.32082 0.29548 0.28071 0.25495 0.2349 0.21319\n"
     ]
    }
   ],
   "source": [
    "# importing the saved acceptance rates\n",
    "MCMC_block_acc_01 = zarr.open('./MCMC_output/block_01/acc.zarr', mode='r')\n",
    "MCMC_block_acc_02 = zarr.open('./MCMC_output/block_02/acc.zarr', mode='r')\n",
    "MCMC_block_acc_03 = zarr.open('./MCMC_output/block_03/acc.zarr', mode='r')\n",
    "MCMC_block_acc_04 = zarr.open('./MCMC_output/block_04/acc.zarr', mode='r')\n",
    "MCMC_block_acc_05 = zarr.open('./MCMC_output/block_05/acc.zarr', mode='r')\n",
    "MCMC_block_acc_06 = zarr.open('./MCMC_output/block_06/acc.zarr', mode='r')\n",
    "MCMC_block_acc_07 = zarr.open('./MCMC_output/block_07/acc.zarr', mode='r')\n",
    "MCMC_block_acc_08 = zarr.open('./MCMC_output/block_08/acc.zarr', mode='r')\n",
    "MCMC_block_acc_09 = zarr.open('./MCMC_output/block_09/acc.zarr', mode='r')\n",
    "MCMC_block_acc_10 = zarr.open('./MCMC_output/block_10/acc.zarr', mode='r')\n",
    "\n",
    "# printing the acceptance rates\n",
    "print(MCMC_block_acc_01[2],MCMC_block_acc_02[2],MCMC_block_acc_03[2],MCMC_block_acc_04[2],MCMC_block_acc_05[2],MCMC_block_acc_06[2],MCMC_block_acc_07[2],MCMC_block_acc_08[2],MCMC_block_acc_09[2],MCMC_block_acc_10[2])\n",
    "\n",
    "# removing the acceptance rates from memory\n",
    "del(MCMC_block_acc_01)\n",
    "del(MCMC_block_acc_02)\n",
    "del(MCMC_block_acc_03)\n",
    "del(MCMC_block_acc_04)\n",
    "del(MCMC_block_acc_05)\n",
    "del(MCMC_block_acc_06)\n",
    "del(MCMC_block_acc_07)\n",
    "del(MCMC_block_acc_08)\n",
    "del(MCMC_block_acc_09)\n",
    "del(MCMC_block_acc_10)"
   ]
  },
  {
   "cell_type": "markdown",
   "metadata": {},
   "source": [
    "### MSJDs"
   ]
  },
  {
   "cell_type": "code",
   "execution_count": null,
   "metadata": {},
   "outputs": [
    {
     "name": "stdout",
     "output_type": "stream",
     "text": [
      "68.194\n"
     ]
    }
   ],
   "source": [
    "# importing the saved run of the X matrices resulting from the latent variables\n",
    "MCMC_noncentred_X = zarr.open('./MCMC_output/block_01/X.zarr', mode='r')\n",
    "\n",
    "# calculating the MSJD for the final 1000 iterations\n",
    "MSJD = 0\n",
    "MSJD += np.sum(np.absolute(X_start-MCMC_noncentred_X[0]))\n",
    "for i in range(999):\n",
    "    #print(i, end='\\r')\n",
    "    MSJD += np.sum(np.absolute(MCMC_noncentred_X[i]-MCMC_noncentred_X[i+1]))\n",
    "MSJD = MSJD/1000\n",
    "print(MSJD)\n",
    "\n",
    "# removing the traces of the latent variables from memory\n",
    "del(MCMC_noncentred_X)"
   ]
  },
  {
   "cell_type": "code",
   "execution_count": null,
   "metadata": {},
   "outputs": [
    {
     "name": "stdout",
     "output_type": "stream",
     "text": [
      "60.587\n"
     ]
    }
   ],
   "source": [
    "# importing the saved run of the X matrices resulting from the latent variables\n",
    "MCMC_noncentred_X = zarr.open('./MCMC_output/block_02/X.zarr', mode='r')\n",
    "\n",
    "# calculating the MSJD for the final 1000 iterations\n",
    "MSJD = 0\n",
    "MSJD += np.sum(np.absolute(X_start-MCMC_noncentred_X[0]))\n",
    "for i in range(999):\n",
    "    #print(i, end='\\r')\n",
    "    MSJD += np.sum(np.absolute(MCMC_noncentred_X[i]-MCMC_noncentred_X[i+1]))\n",
    "MSJD = MSJD/1000\n",
    "print(MSJD)\n",
    "\n",
    "# removing the traces of the latent variables from memory\n",
    "del(MCMC_noncentred_X)"
   ]
  },
  {
   "cell_type": "code",
   "execution_count": null,
   "metadata": {},
   "outputs": [
    {
     "name": "stdout",
     "output_type": "stream",
     "text": [
      "53.348\n"
     ]
    }
   ],
   "source": [
    "# importing the saved run of the X matrices resulting from the latent variables\n",
    "MCMC_noncentred_X = zarr.open('./MCMC_output/block_03/X.zarr', mode='r')\n",
    "\n",
    "# calculating the MSJD for the final 1000 iterations\n",
    "MSJD = 0\n",
    "MSJD += np.sum(np.absolute(X_start-MCMC_noncentred_X[0]))\n",
    "for i in range(999):\n",
    "    #print(i, end='\\r')\n",
    "    MSJD += np.sum(np.absolute(MCMC_noncentred_X[i]-MCMC_noncentred_X[i+1]))\n",
    "MSJD = MSJD/1000\n",
    "print(MSJD)\n",
    "\n",
    "# removing the traces of the latent variables from memory\n",
    "del(MCMC_noncentred_X)"
   ]
  },
  {
   "cell_type": "code",
   "execution_count": null,
   "metadata": {},
   "outputs": [
    {
     "name": "stdout",
     "output_type": "stream",
     "text": [
      "47.116\n"
     ]
    }
   ],
   "source": [
    "# importing the saved run of the X matrices resulting from the latent variables\n",
    "MCMC_noncentred_X = zarr.open('./MCMC_output/block_04/X.zarr', mode='r')\n",
    "\n",
    "# calculating the MSJD for the final 1000 iterations\n",
    "MSJD = 0\n",
    "MSJD += np.sum(np.absolute(X_start-MCMC_noncentred_X[0]))\n",
    "for i in range(999):\n",
    "    #print(i, end='\\r')\n",
    "    MSJD += np.sum(np.absolute(MCMC_noncentred_X[i]-MCMC_noncentred_X[i+1]))\n",
    "MSJD = MSJD/1000\n",
    "print(MSJD)\n",
    "\n",
    "# removing the traces of the latent variables from memory\n",
    "del(MCMC_noncentred_X)"
   ]
  },
  {
   "cell_type": "code",
   "execution_count": null,
   "metadata": {},
   "outputs": [
    {
     "name": "stdout",
     "output_type": "stream",
     "text": [
      "42.442\n"
     ]
    }
   ],
   "source": [
    "# importing the saved run of the X matrices resulting from the latent variables\n",
    "MCMC_noncentred_X = zarr.open('./MCMC_output/block_05/X.zarr', mode='r')\n",
    "\n",
    "# calculating the MSJD for the final 1000 iterations\n",
    "MSJD = 0\n",
    "MSJD += np.sum(np.absolute(X_start-MCMC_noncentred_X[0]))\n",
    "for i in range(999):\n",
    "    #print(i, end='\\r')\n",
    "    MSJD += np.sum(np.absolute(MCMC_noncentred_X[i]-MCMC_noncentred_X[i+1]))\n",
    "MSJD = MSJD/1000\n",
    "print(MSJD)\n",
    "\n",
    "# removing the traces of the latent variables from memory\n",
    "del(MCMC_noncentred_X)"
   ]
  },
  {
   "cell_type": "code",
   "execution_count": null,
   "metadata": {},
   "outputs": [
    {
     "name": "stdout",
     "output_type": "stream",
     "text": [
      "38.467\n"
     ]
    }
   ],
   "source": [
    "# importing the saved run of the X matrices resulting from the latent variables\n",
    "MCMC_noncentred_X = zarr.open('./MCMC_output/block_06/X.zarr', mode='r')\n",
    "\n",
    "# calculating the MSJD for the final 1000 iterations\n",
    "MSJD = 0\n",
    "MSJD += np.sum(np.absolute(X_start-MCMC_noncentred_X[0]))\n",
    "for i in range(999):\n",
    "    #print(i, end='\\r')\n",
    "    MSJD += np.sum(np.absolute(MCMC_noncentred_X[i]-MCMC_noncentred_X[i+1]))\n",
    "MSJD = MSJD/1000\n",
    "print(MSJD)\n",
    "\n",
    "# removing the traces of the latent variables from memory\n",
    "del(MCMC_noncentred_X)"
   ]
  },
  {
   "cell_type": "code",
   "execution_count": null,
   "metadata": {},
   "outputs": [
    {
     "name": "stdout",
     "output_type": "stream",
     "text": [
      "34.787\n"
     ]
    }
   ],
   "source": [
    "# importing the saved run of the X matrices resulting from the latent variables\n",
    "MCMC_noncentred_X = zarr.open('./MCMC_output/block_07/X.zarr', mode='r')\n",
    "\n",
    "# calculating the MSJD for the final 1000 iterations\n",
    "MSJD = 0\n",
    "MSJD += np.sum(np.absolute(X_start-MCMC_noncentred_X[0]))\n",
    "for i in range(999):\n",
    "    #print(i, end='\\r')\n",
    "    MSJD += np.sum(np.absolute(MCMC_noncentred_X[i]-MCMC_noncentred_X[i+1]))\n",
    "MSJD = MSJD/1000\n",
    "print(MSJD)\n",
    "\n",
    "# removing the traces of the latent variables from memory\n",
    "del(MCMC_noncentred_X)"
   ]
  },
  {
   "cell_type": "code",
   "execution_count": null,
   "metadata": {},
   "outputs": [
    {
     "name": "stdout",
     "output_type": "stream",
     "text": [
      "31.369\n"
     ]
    }
   ],
   "source": [
    "# importing the saved run of the X matrices resulting from the latent variables\n",
    "MCMC_noncentred_X = zarr.open('./MCMC_output/block_08/X.zarr', mode='r')\n",
    "\n",
    "# calculating the MSJD for the final 1000 iterations\n",
    "MSJD = 0\n",
    "MSJD += np.sum(np.absolute(X_start-MCMC_noncentred_X[0]))\n",
    "for i in range(999):\n",
    "    #print(i, end='\\r')\n",
    "    MSJD += np.sum(np.absolute(MCMC_noncentred_X[i]-MCMC_noncentred_X[i+1]))\n",
    "MSJD = MSJD/1000\n",
    "print(MSJD)\n",
    "\n",
    "# removing the traces of the latent variables from memory\n",
    "del(MCMC_noncentred_X)"
   ]
  },
  {
   "cell_type": "code",
   "execution_count": null,
   "metadata": {},
   "outputs": [
    {
     "name": "stdout",
     "output_type": "stream",
     "text": [
      "27.348\n"
     ]
    }
   ],
   "source": [
    "# importing the saved run of the X matrices resulting from the latent variables\n",
    "MCMC_noncentred_X = zarr.open('./MCMC_output/block_09/X.zarr', mode='r')\n",
    "\n",
    "# calculating the MSJD for the final 1000 iterations\n",
    "MSJD = 0\n",
    "MSJD += np.sum(np.absolute(X_start-MCMC_noncentred_X[0]))\n",
    "for i in range(999):\n",
    "    #print(i, end='\\r')\n",
    "    MSJD += np.sum(np.absolute(MCMC_noncentred_X[i]-MCMC_noncentred_X[i+1]))\n",
    "MSJD = MSJD/1000\n",
    "print(MSJD)\n",
    "\n",
    "# removing the traces of the latent variables from memory\n",
    "del(MCMC_noncentred_X)"
   ]
  },
  {
   "cell_type": "code",
   "execution_count": null,
   "metadata": {},
   "outputs": [
    {
     "name": "stdout",
     "output_type": "stream",
     "text": [
      "23.941\n"
     ]
    }
   ],
   "source": [
    "# importing the saved run of the X matrices resulting from the latent variables\n",
    "MCMC_noncentred_X = zarr.open('./MCMC_output/block_10/X.zarr', mode='r')\n",
    "\n",
    "# calculating the MSJD for the final 1000 iterations\n",
    "MSJD = 0\n",
    "MSJD += np.sum(np.absolute(X_start-MCMC_noncentred_X[0]))\n",
    "for i in range(999):\n",
    "    #print(i, end='\\r')\n",
    "    MSJD += np.sum(np.absolute(MCMC_noncentred_X[i]-MCMC_noncentred_X[i+1]))\n",
    "MSJD = MSJD/1000\n",
    "print(MSJD)\n",
    "\n",
    "# removing the traces of the latent variables from memory\n",
    "del(MCMC_noncentred_X)"
   ]
  },
  {
   "cell_type": "markdown",
   "metadata": {},
   "source": [
    "## iFFBS"
   ]
  },
  {
   "cell_type": "markdown",
   "metadata": {},
   "source": [
    "### acceptance rates"
   ]
  },
  {
   "cell_type": "code",
   "execution_count": null,
   "metadata": {},
   "outputs": [],
   "source": [
    "# none since Gibbs sampler"
   ]
  },
  {
   "cell_type": "markdown",
   "metadata": {},
   "source": [
    "### MSJDs"
   ]
  },
  {
   "cell_type": "code",
   "execution_count": null,
   "metadata": {},
   "outputs": [
    {
     "name": "stdout",
     "output_type": "stream",
     "text": [
      "1500.968\n"
     ]
    }
   ],
   "source": [
    "# importing the saved run of the X matrices resulting from the latent variables\n",
    "MCMC_noncentred_X = zarr.open('./MCMC_output/iFFBS_01/X.zarr', mode='r')\n",
    "\n",
    "# calculating the MSJD for the final 1000 iterations\n",
    "MSJD = 0\n",
    "MSJD += np.sum(np.absolute(X_start-MCMC_noncentred_X[0]))\n",
    "for i in range(999):\n",
    "    #print(i, end='\\r')\n",
    "    MSJD += np.sum(np.absolute(MCMC_noncentred_X[i]-MCMC_noncentred_X[i+1]))\n",
    "MSJD = MSJD/1000\n",
    "print(MSJD)\n",
    "\n",
    "# removing the traces of the latent variables from memory\n",
    "del(MCMC_noncentred_X)"
   ]
  },
  {
   "cell_type": "code",
   "execution_count": null,
   "metadata": {},
   "outputs": [
    {
     "name": "stdout",
     "output_type": "stream",
     "text": [
      "1401.196\n"
     ]
    }
   ],
   "source": [
    "# importing the saved run of the X matrices resulting from the latent variables\n",
    "MCMC_noncentred_X = zarr.open('./MCMC_output/iFFBS_02/X.zarr', mode='r')\n",
    "\n",
    "# calculating the MSJD for the final 1000 iterations\n",
    "MSJD = 0\n",
    "MSJD += np.sum(np.absolute(X_start-MCMC_noncentred_X[0]))\n",
    "for i in range(999):\n",
    "    #print(i, end='\\r')\n",
    "    MSJD += np.sum(np.absolute(MCMC_noncentred_X[i]-MCMC_noncentred_X[i+1]))\n",
    "MSJD = MSJD/1000\n",
    "print(MSJD)\n",
    "\n",
    "# removing the traces of the latent variables from memory\n",
    "del(MCMC_noncentred_X)"
   ]
  },
  {
   "cell_type": "code",
   "execution_count": null,
   "metadata": {},
   "outputs": [
    {
     "name": "stdout",
     "output_type": "stream",
     "text": [
      "1289.432\n"
     ]
    }
   ],
   "source": [
    "# importing the saved run of the X matrices resulting from the latent variables\n",
    "MCMC_noncentred_X = zarr.open('./MCMC_output/iFFBS_03/X.zarr', mode='r')\n",
    "\n",
    "# calculating the MSJD for the final 1000 iterations\n",
    "MSJD = 0\n",
    "MSJD += np.sum(np.absolute(X_start-MCMC_noncentred_X[0]))\n",
    "for i in range(999):\n",
    "    #print(i, end='\\r')\n",
    "    MSJD += np.sum(np.absolute(MCMC_noncentred_X[i]-MCMC_noncentred_X[i+1]))\n",
    "MSJD = MSJD/1000\n",
    "print(MSJD)\n",
    "\n",
    "# removing the traces of the latent variables from memory\n",
    "del(MCMC_noncentred_X)"
   ]
  },
  {
   "cell_type": "code",
   "execution_count": null,
   "metadata": {},
   "outputs": [
    {
     "name": "stdout",
     "output_type": "stream",
     "text": [
      "1214.513\n"
     ]
    }
   ],
   "source": [
    "# importing the saved run of the X matrices resulting from the latent variables\n",
    "MCMC_noncentred_X = zarr.open('./MCMC_output/iFFBS_04/X.zarr', mode='r')\n",
    "\n",
    "# calculating the MSJD for the final 1000 iterations\n",
    "MSJD = 0\n",
    "MSJD += np.sum(np.absolute(X_start-MCMC_noncentred_X[0]))\n",
    "for i in range(999):\n",
    "    #print(i, end='\\r')\n",
    "    MSJD += np.sum(np.absolute(MCMC_noncentred_X[i]-MCMC_noncentred_X[i+1]))\n",
    "MSJD = MSJD/1000\n",
    "print(MSJD)\n",
    "\n",
    "# removing the traces of the latent variables from memory\n",
    "del(MCMC_noncentred_X)"
   ]
  },
  {
   "cell_type": "code",
   "execution_count": null,
   "metadata": {},
   "outputs": [
    {
     "name": "stdout",
     "output_type": "stream",
     "text": [
      "1112.933\n"
     ]
    }
   ],
   "source": [
    "# importing the saved run of the X matrices resulting from the latent variables\n",
    "MCMC_noncentred_X = zarr.open('./MCMC_output/iFFBS_05/X.zarr', mode='r')\n",
    "\n",
    "# calculating the MSJD for the final 1000 iterations\n",
    "MSJD = 0\n",
    "MSJD += np.sum(np.absolute(X_start-MCMC_noncentred_X[0]))\n",
    "for i in range(999):\n",
    "    #print(i, end='\\r')\n",
    "    MSJD += np.sum(np.absolute(MCMC_noncentred_X[i]-MCMC_noncentred_X[i+1]))\n",
    "MSJD = MSJD/1000\n",
    "print(MSJD)\n",
    "\n",
    "# removing the traces of the latent variables from memory\n",
    "del(MCMC_noncentred_X)"
   ]
  },
  {
   "cell_type": "code",
   "execution_count": null,
   "metadata": {},
   "outputs": [
    {
     "name": "stdout",
     "output_type": "stream",
     "text": [
      "1043.562\n"
     ]
    }
   ],
   "source": [
    "# importing the saved run of the X matrices resulting from the latent variables\n",
    "MCMC_noncentred_X = zarr.open('./MCMC_output/iFFBS_06/X.zarr', mode='r')\n",
    "\n",
    "# calculating the MSJD for the final 1000 iterations\n",
    "MSJD = 0\n",
    "MSJD += np.sum(np.absolute(X_start-MCMC_noncentred_X[0]))\n",
    "for i in range(999):\n",
    "    #print(i, end='\\r')\n",
    "    MSJD += np.sum(np.absolute(MCMC_noncentred_X[i]-MCMC_noncentred_X[i+1]))\n",
    "MSJD = MSJD/1000\n",
    "print(MSJD)\n",
    "\n",
    "# removing the traces of the latent variables from memory\n",
    "del(MCMC_noncentred_X)"
   ]
  },
  {
   "cell_type": "code",
   "execution_count": null,
   "metadata": {},
   "outputs": [
    {
     "name": "stdout",
     "output_type": "stream",
     "text": [
      "969.794\n"
     ]
    }
   ],
   "source": [
    "# importing the saved run of the X matrices resulting from the latent variables\n",
    "MCMC_noncentred_X = zarr.open('./MCMC_output/iFFBS_07/X.zarr', mode='r')\n",
    "\n",
    "# calculating the MSJD for the final 1000 iterations\n",
    "MSJD = 0\n",
    "MSJD += np.sum(np.absolute(X_start-MCMC_noncentred_X[0]))\n",
    "for i in range(999):\n",
    "    #print(i, end='\\r')\n",
    "    MSJD += np.sum(np.absolute(MCMC_noncentred_X[i]-MCMC_noncentred_X[i+1]))\n",
    "MSJD = MSJD/1000\n",
    "print(MSJD)\n",
    "\n",
    "# removing the traces of the latent variables from memory\n",
    "del(MCMC_noncentred_X)"
   ]
  },
  {
   "cell_type": "code",
   "execution_count": null,
   "metadata": {},
   "outputs": [
    {
     "name": "stdout",
     "output_type": "stream",
     "text": [
      "907.735\n"
     ]
    }
   ],
   "source": [
    "# importing the saved run of the X matrices resulting from the latent variables\n",
    "MCMC_noncentred_X = zarr.open('./MCMC_output/iFFBS_08/X.zarr', mode='r')\n",
    "\n",
    "# calculating the MSJD for the final 1000 iterations\n",
    "MSJD = 0\n",
    "MSJD += np.sum(np.absolute(X_start-MCMC_noncentred_X[0]))\n",
    "for i in range(999):\n",
    "    #print(i, end='\\r')\n",
    "    MSJD += np.sum(np.absolute(MCMC_noncentred_X[i]-MCMC_noncentred_X[i+1]))\n",
    "MSJD = MSJD/1000\n",
    "print(MSJD)\n",
    "\n",
    "# removing the traces of the latent variables from memory\n",
    "del(MCMC_noncentred_X)"
   ]
  },
  {
   "cell_type": "code",
   "execution_count": null,
   "metadata": {},
   "outputs": [
    {
     "name": "stdout",
     "output_type": "stream",
     "text": [
      "835.268\n"
     ]
    }
   ],
   "source": [
    "# importing the saved run of the X matrices resulting from the latent variables\n",
    "MCMC_noncentred_X = zarr.open('./MCMC_output/iFFBS_09/X.zarr', mode='r')\n",
    "\n",
    "# calculating the MSJD for the final 1000 iterations\n",
    "MSJD = 0\n",
    "MSJD += np.sum(np.absolute(X_start-MCMC_noncentred_X[0]))\n",
    "for i in range(999):\n",
    "    #print(i, end='\\r')\n",
    "    MSJD += np.sum(np.absolute(MCMC_noncentred_X[i]-MCMC_noncentred_X[i+1]))\n",
    "MSJD = MSJD/1000\n",
    "print(MSJD)\n",
    "\n",
    "# removing the traces of the latent variables from memory\n",
    "del(MCMC_noncentred_X)"
   ]
  },
  {
   "cell_type": "code",
   "execution_count": null,
   "metadata": {},
   "outputs": [
    {
     "name": "stdout",
     "output_type": "stream",
     "text": [
      "764.119\n"
     ]
    }
   ],
   "source": [
    "# importing the saved run of the X matrices resulting from the latent variables\n",
    "MCMC_noncentred_X = zarr.open('./MCMC_output/iFFBS_10/X.zarr', mode='r')\n",
    "\n",
    "# calculating the MSJD for the final 1000 iterations\n",
    "MSJD = 0\n",
    "MSJD += np.sum(np.absolute(X_start-MCMC_noncentred_X[0]))\n",
    "for i in range(999):\n",
    "    #print(i, end='\\r')\n",
    "    MSJD += np.sum(np.absolute(MCMC_noncentred_X[i]-MCMC_noncentred_X[i+1]))\n",
    "MSJD = MSJD/1000\n",
    "print(MSJD)\n",
    "\n",
    "# removing the traces of the latent variables from memory\n",
    "del(MCMC_noncentred_X)"
   ]
  },
  {
   "cell_type": "markdown",
   "metadata": {},
   "source": [
    "## plots"
   ]
  },
  {
   "cell_type": "code",
   "execution_count": 40,
   "metadata": {},
   "outputs": [],
   "source": [
    "accept_rippler = np.array([0.48914, 0.37032, 0.30578, 0.25792, 0.2202, 0.1917, 0.16915, 0.14426, 0.12933, 0.11155])\n",
    "accept_block = np.array([0.44093, 0.40965, 0.37699, 0.34685, 0.32082, 0.29548, 0.28071, 0.25495, 0.2349, 0.21319])\n",
    "MSJD_rippler = np.array([317.079, 157.201, 102.874, 72.709, 54.591, 43.026, 34.769, 27.571, 22.888, 18.588])\n",
    "MSJD_block = np.array([68.194, 60.587, 53.348, 47.116, 42.442, 38.467, 34.787, 31.369, 27.348, 23.941])\n",
    "test_quantities = np.array([0.05,0.1,0.15,0.2,0.25,0.3,0.35,0.4,0.45,0.5])"
   ]
  },
  {
   "cell_type": "code",
   "execution_count": 51,
   "metadata": {},
   "outputs": [
    {
     "data": {
      "image/png": "[encoded data removed]",
      "text/plain": [
       "<Figure size 640x480 with 1 Axes>"
      ]
     },
     "metadata": {},
     "output_type": "display_data"
    }
   ],
   "source": [
    "plt.plot(test_quantities, MSJD_rippler)\n",
    "plt.plot(test_quantities, MSJD_block, color=\"red\")\n",
    "plt.scatter(test_quantities, MSJD_rippler, label=\"rippler\")\n",
    "plt.scatter(test_quantities, MSJD_block, color=\"red\", label=\"reversible-jump\")\n",
    "plt.legend()\n",
    "plt.ylabel(\"MSJD\")\n",
    "plt.xlabel(\"Proportion of individuals tested each time-step\")\n",
    "#plt.savefig(\"plots/MSJD_vs_tests.pdf\")\n",
    "plt.show()"
   ]
  },
  {
   "cell_type": "code",
   "execution_count": 52,
   "metadata": {},
   "outputs": [
    {
     "data": {
      "image/png": "[encoded data removed]",
      "text/plain": [
       "<Figure size 640x480 with 1 Axes>"
      ]
     },
     "metadata": {},
     "output_type": "display_data"
    }
   ],
   "source": [
    "plt.plot(test_quantities, accept_rippler)\n",
    "plt.plot(test_quantities, accept_block, color=\"red\")\n",
    "plt.scatter(test_quantities, accept_rippler, label=\"rippler\")\n",
    "plt.scatter(test_quantities, accept_block, color=\"red\", label=\"reversible-jump\")\n",
    "plt.legend()\n",
    "plt.ylabel(\"Acceptance rate\")\n",
    "plt.xlabel(\"Proportion of individuals tested each time-step\")\n",
    "#plt.savefig(\"plots/accept_vs_tests.pdf\")\n",
    "plt.show()"
   ]
  }
 ],
 "metadata": {
  "kernelspec": {
   "display_name": "Python 3",
   "language": "python",
   "name": "python3"
  },
  "language_info": {
   "codemirror_mode": {
    "name": "ipython",
    "version": 3
   },
   "file_extension": ".py",
   "mimetype": "text/x-python",
   "name": "python",
   "nbconvert_exporter": "python",
   "pygments_lexer": "ipython3",
   "version": "3.9.10"
  }
 },
 "nbformat": 4,
 "nbformat_minor": 2
}
